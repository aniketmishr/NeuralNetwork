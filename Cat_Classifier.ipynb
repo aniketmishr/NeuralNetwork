{
  "nbformat": 4,
  "nbformat_minor": 0,
  "metadata": {
    "colab": {
      "provenance": [],
      "authorship_tag": "ABX9TyN9Fg/dnkER49VPP4bZqSQs",
      "include_colab_link": true
    },
    "kernelspec": {
      "name": "python3",
      "display_name": "Python 3"
    },
    "language_info": {
      "name": "python"
    }
  },
  "cells": [
    {
      "cell_type": "markdown",
      "metadata": {
        "id": "view-in-github",
        "colab_type": "text"
      },
      "source": [
        "<a href=\"https://colab.research.google.com/github/aniketmishr/NeuralNetwork/blob/main/Cat_Classifier.ipynb\" target=\"_parent\"><img src=\"https://colab.research.google.com/assets/colab-badge.svg\" alt=\"Open In Colab\"/></a>"
      ]
    },
    {
      "cell_type": "code",
      "source": [
        "import time\n",
        "import numpy as np\n",
        "import h5py\n",
        "import matplotlib.pyplot as plt\n",
        "import scipy\n",
        "from PIL import Image\n",
        "from scipy import ndimage\n",
        "\n",
        "%matplotlib inline\n",
        "plt.rcParams['figure.figsize'] = (5.0, 4.0) # set default size of plots\n",
        "plt.rcParams['image.interpolation'] = 'nearest'\n",
        "plt.rcParams['image.cmap'] = 'gray'\n",
        "\n",
        "%load_ext autoreload\n",
        "%autoreload 2\n",
        "\n",
        "np.random.seed(1)"
      ],
      "metadata": {
        "id": "Nu67bKKBpeFD",
        "colab": {
          "base_uri": "https://localhost:8080/"
        },
        "outputId": "93e7548e-0f25-4418-c954-5b1e03974c79"
      },
      "execution_count": 14,
      "outputs": [
        {
          "output_type": "stream",
          "name": "stdout",
          "text": [
            "The autoreload extension is already loaded. To reload it, use:\n",
            "  %reload_ext autoreload\n"
          ]
        }
      ]
    },
    {
      "cell_type": "code",
      "source": [
        "def load_data():\n",
        "    train_dataset = h5py.File('/content/train_catvnoncat.h5', \"r\")\n",
        "    train_set_x_orig = np.array(train_dataset[\"train_set_x\"][:]) # your train set features\n",
        "    train_set_y_orig = np.array(train_dataset[\"train_set_y\"][:]) # your train set labels\n",
        "\n",
        "    test_dataset = h5py.File('/content/test_catvnoncat.h5', \"r\")\n",
        "    test_set_x_orig = np.array(test_dataset[\"test_set_x\"][:]) # your test set features\n",
        "    test_set_y_orig = np.array(test_dataset[\"test_set_y\"][:]) # your test set labels\n",
        "\n",
        "    classes = np.array(test_dataset[\"list_classes\"][:]) # the list of classes\n",
        "\n",
        "    train_set_y_orig = train_set_y_orig.reshape((1, train_set_y_orig.shape[0]))\n",
        "    test_set_y_orig = test_set_y_orig.reshape((1, test_set_y_orig.shape[0]))\n",
        "\n",
        "    return train_set_x_orig, train_set_y_orig, test_set_x_orig, test_set_y_orig, classes"
      ],
      "metadata": {
        "id": "QPe9h4sBoyui"
      },
      "execution_count": 15,
      "outputs": []
    },
    {
      "cell_type": "code",
      "source": [
        "# GRADED FUNCTION: initialize_parameters_deep\n",
        "\n",
        "def initialize_parameters_deep(layer_dims):\n",
        "    \"\"\"\n",
        "    Arguments:\n",
        "    layer_dims -- python array (list) containing the dimensions of each layer in our network\n",
        "\n",
        "    Returns:\n",
        "    parameters -- python dictionary containing your parameters \"W1\", \"b1\", ..., \"WL\", \"bL\":\n",
        "                    Wl -- weight matrix of shape (layer_dims[l], layer_dims[l-1])\n",
        "                    bl -- bias vector of shape (layer_dims[l], 1)\n",
        "    \"\"\"\n",
        "\n",
        "    np.random.seed(3)\n",
        "    parameters = {}\n",
        "    L = len(layer_dims)            # number of layers in the network\n",
        "\n",
        "    for l in range(1, L):\n",
        "        ### START CODE HERE ### (≈ 2 lines of code)\n",
        "        parameters['W' + str(l)] = np.random.randn(layer_dims[l],layer_dims[l-1]) * 0.01\n",
        "        parameters['b' + str(l)] = np.zeros((layer_dims[l],1))\n",
        "        ### END CODE HERE ###\n",
        "\n",
        "        assert(parameters['W' + str(l)].shape == (layer_dims[l], layer_dims[l-1]))\n",
        "        assert(parameters['b' + str(l)].shape == (layer_dims[l], 1))\n",
        "\n",
        "    return parameters"
      ],
      "metadata": {
        "id": "CvGZL1t3qSxi"
      },
      "execution_count": 16,
      "outputs": []
    },
    {
      "cell_type": "code",
      "source": [
        "# GRADED FUNCTION: linear_forward\n",
        "\n",
        "def linear_forward(A, W, b):\n",
        "    \"\"\"\n",
        "    Implement the linear part of a layer's forward propagation.\n",
        "\n",
        "    Arguments:\n",
        "    A -- activations from previous layer (or input data): (size of previous layer, number of examples)\n",
        "    W -- weights matrix: numpy array of shape (size of current layer, size of previous layer)\n",
        "    b -- bias vector, numpy array of shape (size of the current layer, 1)\n",
        "\n",
        "    Returns:\n",
        "    Z -- the input of the activation function, also called pre-activation parameter\n",
        "    cache -- a python tuple containing \"A\", \"W\" and \"b\" ; stored for computing the backward pass efficiently\n",
        "    \"\"\"\n",
        "\n",
        "    ### START CODE HERE ### (≈ 1 line of code)\n",
        "    Z = np.dot(W,A) + b\n",
        "    ### END CODE HERE ###\n",
        "\n",
        "    assert(Z.shape == (W.shape[0], A.shape[1]))\n",
        "    cache = (A, W, b)\n",
        "\n",
        "    return Z, cache"
      ],
      "metadata": {
        "id": "3_S-e2hyvULM"
      },
      "execution_count": 17,
      "outputs": []
    },
    {
      "cell_type": "code",
      "source": [
        "def sigmoid(z):\n",
        "  return 1/(1+np.exp(-z)),z\n",
        "\n",
        "def d_sigmoid(z):\n",
        "  a = 1/(1+np.exp(-z))\n",
        "  return a*(1-a)\n",
        "\n",
        "def tanh(z):\n",
        "  return (2*(sigmoid(2*z)) - 1),z\n",
        "\n",
        "def d_tanh(z):\n",
        "  a = tanh(z)\n",
        "  return 1-(a**2)\n",
        "\n",
        "def relu(z):\n",
        "  return np.maximum(0,z),z\n",
        "\n",
        "def d_relu(z):\n",
        "  return np.where(z > 0, 1, 0)"
      ],
      "metadata": {
        "id": "FRW4M_p8xO4w"
      },
      "execution_count": 18,
      "outputs": []
    },
    {
      "cell_type": "code",
      "source": [
        "# GRADED FUNCTION: linear_activation_forward\n",
        "\n",
        "def linear_activation_forward(A_prev, W, b, activation):\n",
        "    \"\"\"\n",
        "    Implement the forward propagation for the LINEAR->ACTIVATION layer\n",
        "\n",
        "    Arguments:\n",
        "    A_prev -- activations from previous layer (or input data): (size of previous layer, number of examples)\n",
        "    W -- weights matrix: numpy array of shape (size of current layer, size of previous layer)\n",
        "    b -- bias vector, numpy array of shape (size of the current layer, 1)\n",
        "    activation -- the activation to be used in this layer, stored as a text string: \"sigmoid\" or \"relu\"\n",
        "\n",
        "    Returns:\n",
        "    A -- the output of the activation function, also called the post-activation value\n",
        "    cache -- a python tuple containing \"linear_cache\" and \"activation_cache\";\n",
        "             stored for computing the backward pass efficiently\n",
        "    \"\"\"\n",
        "\n",
        "    if activation == \"sigmoid\":\n",
        "        # Inputs: \"A_prev, W, b\". Outputs: \"A, activation_cache\".\n",
        "        ### START CODE HERE ### (≈ 2 lines of code)\n",
        "        Z, linear_cache = linear_forward(A_prev, W, b) # This \"linear_cache\" contains (A_prev, W, b)\n",
        "        A, activation_cache = sigmoid(Z) # This \"activation_cache\" contains \"Z\"\n",
        "        ### END CODE HERE ###\n",
        "\n",
        "    elif activation == \"relu\":\n",
        "        # Inputs: \"A_prev, W, b\". Outputs: \"A, activation_cache\".\n",
        "        ### START CODE HERE ### (≈ 2 lines of code)\n",
        "        Z, linear_cache = linear_forward(A_prev, W, b) # This \"linear_cache\" contains (A_prev, W, b)\n",
        "        A, activation_cache = relu(Z) # This \"activation_cache\" contains \"Z\"\n",
        "        ### END CODE HERE ###\n",
        "\n",
        "    assert (A.shape == (W.shape[0], A_prev.shape[1]))\n",
        "    cache = (linear_cache, activation_cache)\n",
        "\n",
        "    return A, cache"
      ],
      "metadata": {
        "id": "s0J1LKAbw0q4"
      },
      "execution_count": 19,
      "outputs": []
    },
    {
      "cell_type": "code",
      "source": [
        "def L_model_forward(X, parameters):\n",
        "    \"\"\"\n",
        "    Implement forward propagation for the [LINEAR->RELU]*(L-1)->LINEAR->SIGMOID computation\n",
        "\n",
        "    Arguments:\n",
        "    X -- data, numpy array of shape (input size, number of examples)\n",
        "    parameters -- output of initialize_parameters_deep()\n",
        "\n",
        "    Returns:\n",
        "    AL -- last post-activation value\n",
        "    caches -- list of caches containing:\n",
        "                every cache of linear_activation_forward() (there are L-1 of them, indexed from 0 to L-1)\n",
        "    \"\"\"\n",
        "\n",
        "    caches = []\n",
        "    A = X\n",
        "    L = len(parameters) // 2                  # number of layers in the neural network\n",
        "\n",
        "    # Implement [LINEAR -> RELU]*(L-1). Add \"cache\" to the \"caches\" list.\n",
        "    for l in range(1, L):\n",
        "        A_prev = A\n",
        "        ### START CODE HERE ### (≈ 2 lines of code)\n",
        "        A, cache = linear_activation_forward(A_prev, parameters['W' + str(l)], parameters['b' + str(l)], \"relu\")\n",
        "        caches.append(cache)\n",
        "        ### END CODE HERE ###\n",
        "\n",
        "    # Implement LINEAR -> SIGMOID. Add \"cache\" to the \"caches\" list.\n",
        "    ### START CODE HERE ### (≈ 2 lines of code)\n",
        "    AL, cache = linear_activation_forward(A, parameters['W' + str(L)], parameters['b' + str(L)], \"sigmoid\")\n",
        "    caches.append(cache)\n",
        "    ### END CODE HERE ###\n",
        "\n",
        "    assert(AL.shape == (1,X.shape[1]))\n",
        "\n",
        "    return AL, caches"
      ],
      "metadata": {
        "id": "57fk0gHlyNGN"
      },
      "execution_count": 20,
      "outputs": []
    },
    {
      "cell_type": "code",
      "source": [
        "def compute_cost(AL, Y):\n",
        "    \"\"\"\n",
        "    Implement the cost function defined by equation (7).\n",
        "\n",
        "    Arguments:\n",
        "    AL -- probability vector corresponding to your label predictions, shape (1, number of examples)\n",
        "    Y -- true \"label\" vector (for example: containing 0 if non-cat, 1 if cat), shape (1, number of examples)\n",
        "\n",
        "    Returns:\n",
        "    cost -- cross-entropy cost\n",
        "    \"\"\"\n",
        "\n",
        "    m = Y.shape[1]\n",
        "\n",
        "    # Compute loss from aL and y.\n",
        "    ### START CODE HERE ### (≈ 1 lines of code)\n",
        "    cost = (-1/m) * (np.dot(Y, np.log(AL).T) + np.dot((1-Y), np.log(1-AL).T))\n",
        "    ### END CODE HERE ###\n",
        "\n",
        "    cost = np.squeeze(cost)      # To make sure your cost's shape is what we expect (e.g. this turns [[17]] into 17).\n",
        "    assert(cost.shape == ())\n",
        "\n",
        "    return cost"
      ],
      "metadata": {
        "id": "Y0kFJGcx0HaO"
      },
      "execution_count": 21,
      "outputs": []
    },
    {
      "cell_type": "code",
      "source": [
        "def linear_backward(dZ, cache):\n",
        "    # Here cache is \"linear_cache\" containing (A_prev, W, b) coming from the forward propagation in the current layer\n",
        "    \"\"\"\n",
        "    Implement the linear portion of backward propagation for a single layer (layer l)\n",
        "\n",
        "    Arguments:\n",
        "    dZ -- Gradient of the cost with respect to the linear output (of current layer l)\n",
        "    cache -- tuple of values (A_prev, W, b) coming from the forward propagation in the current layer\n",
        "\n",
        "    Returns:\n",
        "    dA_prev -- Gradient of the cost with respect to the activation (of the previous layer l-1), same shape as A_prev\n",
        "    dW -- Gradient of the cost with respect to W (current layer l), same shape as W\n",
        "    db -- Gradient of the cost with respect to b (current layer l), same shape as b\n",
        "    \"\"\"\n",
        "    A_prev, W, b = cache\n",
        "    m = A_prev.shape[1]\n",
        "\n",
        "    ### START CODE HERE ### (≈ 3 lines of code)\n",
        "    dW = (1/m) * np.dot(dZ, A_prev.T)\n",
        "    db = (1/m) * np.sum(dZ, axis=1, keepdims=True)\n",
        "    dA_prev = np.dot(W.T,dZ)\n",
        "    ### END CODE HERE ###\n",
        "\n",
        "    assert (dA_prev.shape == A_prev.shape)\n",
        "    assert (dW.shape == W.shape)\n",
        "    assert (db.shape == b.shape)\n",
        "\n",
        "    return dA_prev, dW, db"
      ],
      "metadata": {
        "id": "nr5xtefW1qxQ"
      },
      "execution_count": 22,
      "outputs": []
    },
    {
      "cell_type": "code",
      "source": [
        "def linear_activation_backward(dA, cache, activation):\n",
        "    \"\"\"\n",
        "    Implement the backward propagation for the LINEAR->ACTIVATION layer.\n",
        "\n",
        "    Arguments:\n",
        "    dA -- post-activation gradient for current layer l\n",
        "    cache -- tuple of values (linear_cache, activation_cache) we store for computing backward propagation efficiently\n",
        "    activation -- the activation to be used in this layer, stored as a text string: \"sigmoid\" or \"relu\"\n",
        "\n",
        "    Returns:\n",
        "    dA_prev -- Gradient of the cost with respect to the activation (of the previous layer l-1), same shape as A_prev\n",
        "    dW -- Gradient of the cost with respect to W (current layer l), same shape as W\n",
        "    db -- Gradient of the cost with respect to b (current layer l), same shape as b\n",
        "    \"\"\"\n",
        "    linear_cache, activation_cache = cache\n",
        "\n",
        "    if activation == \"relu\":\n",
        "        ### START CODE HERE ### (≈ 1 line of code)\n",
        "        dZ = dA*d_relu(activation_cache)\n",
        "        ### END CODE HERE ###\n",
        "\n",
        "    elif activation == \"sigmoid\":\n",
        "        ### START CODE HERE ### (≈ 1 line of code)\n",
        "        dZ = dA*d_sigmoid(activation_cache)\n",
        "        ### END CODE HERE ###\n",
        "\n",
        "    ### START CODE HERE ### (≈ 1 line of code)\n",
        "    dA_prev, dW, db = linear_backward(dZ, linear_cache)\n",
        "    ### END CODE HERE ###\n",
        "\n",
        "    return dA_prev, dW, db"
      ],
      "metadata": {
        "id": "r_0cl-Zy5CqI"
      },
      "execution_count": 23,
      "outputs": []
    },
    {
      "cell_type": "code",
      "source": [
        "\n",
        "def L_model_backward(AL, Y, caches):\n",
        "    \"\"\"\n",
        "    Implement the backward propagation for the [LINEAR->RELU] * (L-1) -> LINEAR -> SIGMOID group\n",
        "\n",
        "    Arguments:\n",
        "    AL -- probability vector, output of the forward propagation (L_model_forward())\n",
        "    Y -- true \"label\" vector (containing 0 if non-cat, 1 if cat)\n",
        "    caches -- list of caches containing:\n",
        "                every cache of linear_activation_forward() with \"relu\" (it's caches[l], for l in range(L-1) i.e l = 0...L-2)\n",
        "                the cache of linear_activation_forward() with \"sigmoid\" (it's caches[L-1])\n",
        "\n",
        "    Returns:\n",
        "    grads -- A dictionary with the gradients\n",
        "             grads[\"dA\" + str(l)] = ...\n",
        "             grads[\"dW\" + str(l)] = ...\n",
        "             grads[\"db\" + str(l)] = ...\n",
        "    \"\"\"\n",
        "    grads = {}\n",
        "    L = len(caches) # the number of layers\n",
        "    m = AL.shape[1]\n",
        "    Y = Y.reshape(AL.shape) # after this line, Y is the same shape as AL\n",
        "\n",
        "    # Initializing the backpropagation\n",
        "    ### START CODE HERE ### (1 line of code)\n",
        "    dAL = - (np.divide(Y, AL) - np.divide(1 - Y, 1 - AL))\n",
        "    ### END CODE HERE ###\n",
        "\n",
        "    # Lth layer (SIGMOID -> LINEAR) gradients. Inputs: \"dAL, current_cache\". Outputs: \"grads[\"dAL-1\"], grads[\"dWL\"], grads[\"dbL\"]\n",
        "    ### START CODE HERE ### (approx. 2 lines)\n",
        "    current_cache = caches[L-1] # Last Layer\n",
        "    grads[\"dA\" + str(L-1)], grads[\"dW\" + str(L)], grads[\"db\" + str(L)] = linear_activation_backward(dAL, current_cache, \"sigmoid\")\n",
        "    ### END CODE HERE ###\n",
        "\n",
        "    # Loop from l=L-2 to l=0\n",
        "    for l in reversed(range(L-1)):\n",
        "        # lth layer: (RELU -> LINEAR) gradients.\n",
        "        # Inputs: \"grads[\"dA\" + str(l + 1)], current_cache\". Outputs: \"grads[\"dA\" + str(l)] , grads[\"dW\" + str(l + 1)] , grads[\"db\" + str(l + 1)]\n",
        "        ### START CODE HERE ### (approx. 5 lines)\n",
        "        current_cache = caches[l]\n",
        "        dA_prev_temp, dW_temp, db_temp = linear_activation_backward(grads[\"dA\" + str(l + 1)], current_cache, activation = \"relu\")\n",
        "        grads[\"dA\" + str(l)] = dA_prev_temp\n",
        "        grads[\"dW\" + str(l + 1)] = dW_temp\n",
        "        grads[\"db\" + str(l + 1)] = db_temp\n",
        "        ### END CODE HERE ###\n",
        "\n",
        "    return grads"
      ],
      "metadata": {
        "id": "2s7E6oqP7P0C"
      },
      "execution_count": 24,
      "outputs": []
    },
    {
      "cell_type": "code",
      "source": [
        "\n",
        "\n",
        "# GRADED FUNCTION: update_parameters\n",
        "\n",
        "def update_parameters(parameters, grads, learning_rate):\n",
        "    \"\"\"\n",
        "    Update parameters using gradient descent\n",
        "\n",
        "    Arguments:\n",
        "    parameters -- python dictionary containing your parameters\n",
        "    grads -- python dictionary containing your gradients, output of L_model_backward\n",
        "\n",
        "    Returns:\n",
        "    parameters -- python dictionary containing your updated parameters\n",
        "                  parameters[\"W\" + str(l)] = ...\n",
        "                  parameters[\"b\" + str(l)] = ...\n",
        "    \"\"\"\n",
        "\n",
        "    L = len(parameters) // 2 # number of layers in the neural network\n",
        "\n",
        "    # Update rule for each parameter. Use a for loop.\n",
        "    ### START CODE HERE ### (≈ 3 lines of code)\n",
        "    for l in range(L):\n",
        "        parameters[\"W\" + str(l+1)] = parameters[\"W\" + str(l+1)] - learning_rate * grads[\"dW\" + str(l+1)]\n",
        "        parameters[\"b\" + str(l+1)] = parameters[\"b\" + str(l+1)] - learning_rate * grads[\"db\" + str(l+1)]\n",
        "    ### END CODE HERE ###\n",
        "    return parameters\n",
        "\n"
      ],
      "metadata": {
        "id": "AZ4p4jre8jnT"
      },
      "execution_count": 25,
      "outputs": []
    },
    {
      "cell_type": "code",
      "source": [
        "train_x_orig, train_y, test_x_orig, test_y, classes = load_data()"
      ],
      "metadata": {
        "id": "FL5d3P4RjCCf"
      },
      "execution_count": 26,
      "outputs": []
    },
    {
      "cell_type": "code",
      "source": [
        "# Example of a picture\n",
        "index = 10\n",
        "plt.imshow(train_x_orig[index])\n",
        "print (\"y = \" + str(train_y[0,index]) + \". It's a \" + classes[train_y[0,index]].decode(\"utf-8\") +  \" picture.\")"
      ],
      "metadata": {
        "colab": {
          "base_uri": "https://localhost:8080/",
          "height": 408
        },
        "id": "rg1mvchtqGj3",
        "outputId": "cf433c99-2fb9-4eec-ce14-6e1821415d7a"
      },
      "execution_count": 27,
      "outputs": [
        {
          "output_type": "stream",
          "name": "stdout",
          "text": [
            "y = 0. It's a non-cat picture.\n"
          ]
        },
        {
          "output_type": "display_data",
          "data": {
            "text/plain": [
              "<Figure size 500x400 with 1 Axes>"
            ],
            "image/png": "[encoded data removed]"
          },
          "metadata": {}
        }
      ]
    },
    {
      "cell_type": "code",
      "source": [
        "# Explore your dataset\n",
        "m_train = train_x_orig.shape[0]\n",
        "num_px = train_x_orig.shape[1]\n",
        "m_test = test_x_orig.shape[0]\n",
        "\n",
        "print (\"Number of training examples: \" + str(m_train))\n",
        "print (\"Number of testing examples: \" + str(m_test))\n",
        "print (\"Each image is of size: (\" + str(num_px) + \", \" + str(num_px) + \", 3)\")\n",
        "print (\"train_x_orig shape: \" + str(train_x_orig.shape))\n",
        "print (\"train_y shape: \" + str(train_y.shape))\n",
        "print (\"test_x_orig shape: \" + str(test_x_orig.shape))\n",
        "print (\"test_y shape: \" + str(test_y.shape))"
      ],
      "metadata": {
        "colab": {
          "base_uri": "https://localhost:8080/"
        },
        "id": "IaedNKogz49N",
        "outputId": "06f38609-57e1-491b-9921-15796d1b85ba"
      },
      "execution_count": 28,
      "outputs": [
        {
          "output_type": "stream",
          "name": "stdout",
          "text": [
            "Number of training examples: 209\n",
            "Number of testing examples: 50\n",
            "Each image is of size: (64, 64, 3)\n",
            "train_x_orig shape: (209, 64, 64, 3)\n",
            "train_y shape: (1, 209)\n",
            "test_x_orig shape: (50, 64, 64, 3)\n",
            "test_y shape: (1, 50)\n"
          ]
        }
      ]
    },
    {
      "cell_type": "code",
      "source": [
        "# Reshape the training and test examples\n",
        "train_x_flatten = train_x_orig.reshape(train_x_orig.shape[0], -1).T   # The \"-1\" makes reshape flatten the remaining dimensions\n",
        "test_x_flatten = test_x_orig.reshape(test_x_orig.shape[0], -1).T\n",
        "\n",
        "# Standardize data to have feature values between 0 and 1.\n",
        "train_x = train_x_flatten/255.\n",
        "test_x = test_x_flatten/255.\n",
        "\n",
        "print (\"train_x's shape: \" + str(train_x.shape))\n",
        "print (\"test_x's shape: \" + str(test_x.shape))"
      ],
      "metadata": {
        "colab": {
          "base_uri": "https://localhost:8080/"
        },
        "id": "o9UEtBMC10od",
        "outputId": "fda6820f-eeee-4f8f-a2cf-8f1ebec6322d"
      },
      "execution_count": 29,
      "outputs": [
        {
          "output_type": "stream",
          "name": "stdout",
          "text": [
            "train_x's shape: (12288, 209)\n",
            "test_x's shape: (12288, 50)\n"
          ]
        }
      ]
    },
    {
      "cell_type": "code",
      "source": [
        "# GRADED FUNCTION: L_layer_model\n",
        "\n",
        "def L_layer_model(X, Y, layers_dims, learning_rate = 0.0075, num_iterations = 3000, print_cost=False):#lr was 0.009\n",
        "    \"\"\"\n",
        "    Implements a L-layer neural network: [LINEAR->RELU]*(L-1)->LINEAR->SIGMOID.\n",
        "\n",
        "    Arguments:\n",
        "    X -- data, numpy array of shape (num_px * num_px * 3, number of examples)\n",
        "    Y -- true \"label\" vector (containing 0 if cat, 1 if non-cat), of shape (1, number of examples)\n",
        "    layers_dims -- list containing the input size and each layer size, of length (number of layers + 1).\n",
        "    learning_rate -- learning rate of the gradient descent update rule\n",
        "    num_iterations -- number of iterations of the optimization loop\n",
        "    print_cost -- if True, it prints the cost every 100 steps\n",
        "\n",
        "    Returns:\n",
        "    parameters -- parameters learnt by the model. They can then be used to predict.\n",
        "    \"\"\"\n",
        "\n",
        "    np.random.seed(1)\n",
        "    costs = []                         # keep track of cost\n",
        "\n",
        "    # Parameters initialization. (≈ 1 line of code)\n",
        "    ### START CODE HERE ###\n",
        "    parameters = initialize_parameters_deep(layers_dims)\n",
        "    ### END CODE HERE ###\n",
        "\n",
        "    # Loop (gradient descent)\n",
        "    for i in range(0, num_iterations):\n",
        "\n",
        "        # Forward propagation: [LINEAR -> RELU]*(L-1) -> LINEAR -> SIGMOID.\n",
        "        ### START CODE HERE ### (≈ 1 line of code)\n",
        "        AL, caches = L_model_forward(X, parameters)\n",
        "        ### END CODE HERE ###\n",
        "\n",
        "        # Compute cost.\n",
        "        ### START CODE HERE ### (≈ 1 line of code)\n",
        "        cost = compute_cost(AL, Y)\n",
        "        ### END CODE HERE ###\n",
        "\n",
        "        # Backward propagation.\n",
        "        ### START CODE HERE ### (≈ 1 line of code)\n",
        "        grads = L_model_backward(AL, Y, caches)\n",
        "        ### END CODE HERE ###\n",
        "\n",
        "        # Update parameters.\n",
        "        ### START CODE HERE ### (≈ 1 line of code)\n",
        "        parameters = update_parameters(parameters, grads, learning_rate)\n",
        "        ### END CODE HERE ###\n",
        "\n",
        "        # Print the cost every 100 training example\n",
        "        if print_cost and i % 100 == 0:\n",
        "            print (\"Cost after iteration %i: %f\" %(i, cost))\n",
        "        if print_cost and i % 100 == 0:\n",
        "            costs.append(cost)\n",
        "\n",
        "    # plot the cost\n",
        "    plt.plot(np.squeeze(costs))\n",
        "    plt.ylabel('cost')\n",
        "    plt.xlabel('iterations (per hundreds)')\n",
        "    plt.title(\"Learning rate =\" + str(learning_rate))\n",
        "    plt.show()\n",
        "\n",
        "    return parameters"
      ],
      "metadata": {
        "id": "EMrnAAzq2pta"
      },
      "execution_count": 30,
      "outputs": []
    },
    {
      "cell_type": "code",
      "source": [
        "def predict(X,y,parameters):\n",
        "  AL,cache = L_model_forward(X,parameters)\n",
        "  pred = np.where(AL>0.5,1,0)\n",
        "  return pred\n",
        "def accuracy(predictions, y):\n",
        "    correct_predictions = np.sum(predictions == y)\n",
        "    total_predictions = y.shape[1]\n",
        "    accuracy = (correct_predictions / total_predictions) * 100\n",
        "    return accuracy"
      ],
      "metadata": {
        "id": "NZRJgvJO8gnj"
      },
      "execution_count": 31,
      "outputs": []
    },
    {
      "cell_type": "markdown",
      "source": [
        "## Two layer Neural Network"
      ],
      "metadata": {
        "id": "FPMg3EwM5hr4"
      }
    },
    {
      "cell_type": "code",
      "source": [
        "\n",
        "### CONSTANTS DEFINING THE MODEL ####\n",
        "n_x = 12288     # num_px * num_px * 3\n",
        "n_h = 7\n",
        "n_y = 1\n",
        "layers_dims = (n_x, n_h, n_y)\n"
      ],
      "metadata": {
        "id": "I15pInH26S2b"
      },
      "execution_count": 32,
      "outputs": []
    },
    {
      "cell_type": "code",
      "source": [
        "\n",
        "parameters = L_layer_model(train_x, train_y, layers_dims, num_iterations = 2500, print_cost = True)"
      ],
      "metadata": {
        "colab": {
          "base_uri": "https://localhost:8080/",
          "height": 864
        },
        "id": "zXm5PIZi6b09",
        "outputId": "3e9463ce-c959-49c8-b090-0a019f0c2bb0"
      },
      "execution_count": 33,
      "outputs": [
        {
          "output_type": "stream",
          "name": "stdout",
          "text": [
            "Cost after iteration 0: 0.692380\n",
            "Cost after iteration 100: 0.646159\n",
            "Cost after iteration 200: 0.631775\n",
            "Cost after iteration 300: 0.600091\n",
            "Cost after iteration 400: 0.559427\n",
            "Cost after iteration 500: 0.512988\n",
            "Cost after iteration 600: 0.454815\n",
            "Cost after iteration 700: 0.399388\n",
            "Cost after iteration 800: 0.420515\n",
            "Cost after iteration 900: 0.369184\n",
            "Cost after iteration 1000: 0.362393\n",
            "Cost after iteration 1100: 0.341366\n",
            "Cost after iteration 1200: 0.333344\n",
            "Cost after iteration 1300: 0.263797\n",
            "Cost after iteration 1400: 0.164805\n",
            "Cost after iteration 1500: 0.143608\n",
            "Cost after iteration 1600: 0.124467\n",
            "Cost after iteration 1700: 0.706752\n",
            "Cost after iteration 1800: 0.092394\n",
            "Cost after iteration 1900: 0.078572\n",
            "Cost after iteration 2000: 0.068092\n",
            "Cost after iteration 2100: 0.059649\n",
            "Cost after iteration 2200: 0.052619\n",
            "Cost after iteration 2300: 0.046817\n",
            "Cost after iteration 2400: 0.041928\n"
          ]
        },
        {
          "output_type": "display_data",
          "data": {
            "text/plain": [
              "<Figure size 500x400 with 1 Axes>"
            ],
            "image/png": "[encoded data removed]"
          },
          "metadata": {}
        }
      ]
    },
    {
      "cell_type": "code",
      "source": [
        "\n",
        "\n",
        "pred_train = predict(train_x, train_y, parameters)\n",
        "\n",
        "print(\"Accuracy: \"+ str(accuracy(pred_train,train_y)))"
      ],
      "metadata": {
        "colab": {
          "base_uri": "https://localhost:8080/"
        },
        "id": "ttMysKf38IDO",
        "outputId": "c178d31d-7fa4-4745-bc30-15975b13d214"
      },
      "execution_count": 34,
      "outputs": [
        {
          "output_type": "stream",
          "name": "stdout",
          "text": [
            "Accuracy: 100.0\n"
          ]
        }
      ]
    },
    {
      "cell_type": "code",
      "source": [
        "\n",
        "test_image = train_x_orig[20]\n",
        "plt.imshow(test_image)\n",
        "test_predict = predict(test_image.reshape(12288,1), None,parameters)\n",
        "if (test_predict[0][0] == 1):\n",
        "  print(\"Its a cat\\n\")\n",
        "else:\n",
        "  print(\"Oops it's not a cat\")"
      ],
      "metadata": {
        "colab": {
          "base_uri": "https://localhost:8080/",
          "height": 443
        },
        "id": "c1fjiiURBKns",
        "outputId": "1157e648-2be1-4da8-9c7a-733e718d0983"
      },
      "execution_count": 71,
      "outputs": [
        {
          "output_type": "stream",
          "name": "stderr",
          "text": [
            "<ipython-input-18-222426e756b7>:2: RuntimeWarning: overflow encountered in exp\n",
            "  return 1/(1+np.exp(-z)),z\n"
          ]
        },
        {
          "output_type": "stream",
          "name": "stdout",
          "text": [
            "Oops it's not a cat\n"
          ]
        },
        {
          "output_type": "display_data",
          "data": {
            "text/plain": [
              "<Figure size 500x400 with 1 Axes>"
            ],
            "image/png": "[encoded data removed]"
          },
          "metadata": {}
        }
      ]
    },
    {
      "cell_type": "code",
      "source": [
        "\n",
        "\n",
        "test_predict = predict(test_image.reshape(12288,1)+50, None,parameters)\n",
        "acc = accuracy(test_predict, np.array(1).reshape(1,1))\n",
        "if (test_predict[0][0] == 1):\n",
        "  print(f\"Its a cat with {acc} % accuracy\")\n",
        "else:\n",
        "  print(\"Oops it's not a cat\")"
      ],
      "metadata": {
        "colab": {
          "base_uri": "https://localhost:8080/"
        },
        "id": "HS-EQubNBiGe",
        "outputId": "097c9540-1041-430a-9848-e3fb1697aca6"
      },
      "execution_count": null,
      "outputs": [
        {
          "output_type": "stream",
          "name": "stdout",
          "text": [
            "Its a cat with 100.0 % accuracy\n"
          ]
        }
      ]
    },
    {
      "cell_type": "markdown",
      "source": [
        "# Generalized Cat image by NN classifier\n"
      ],
      "metadata": {
        "id": "IRjt8_in0cmi"
      }
    },
    {
      "cell_type": "code",
      "source": [
        "class NeuralNetwork:\n",
        "  def __init__(self,n_l,lr,g,epochs,parameters,nx,y):\n",
        "    self.n_l = n_l\n",
        "    self.nx=nx\n",
        "    self.L = len(n_l)\n",
        "    self.lr = lr\n",
        "    self.g, self.d_g = self.get_activation(g)\n",
        "    self.epochs = epochs\n",
        "\n",
        "    self.X = np.array(np.random.randn(self.nx,1))\n",
        "    self.y = np.array(y)\n",
        "    self.w = parameters[0]\n",
        "    self.b = parameters[1]\n",
        "    self.Z= [None]*self.L\n",
        "    self.A = [None]*self.L\n",
        "    self.dA = [None]*self.L\n",
        "    self.dz = [None]*self.L\n",
        "    self.dX = [None]\n",
        "    self.cost = []\n",
        "\n",
        "    self.gradient_descent()\n",
        "\n",
        "  def get_activation(self,g):\n",
        "    gx = [] #activation fucntions\n",
        "    d_gx = [] # derivative of activation fucntions\n",
        "    for s in g:\n",
        "      if s==\"tanh\":\n",
        "        gx.append(self.tanh)\n",
        "        d_gx.append(self.d_tanh)\n",
        "      elif s==\"sigmoid\":\n",
        "        gx.append(self.sigmoid)\n",
        "        d_gx.append(self.d_sigmoid)\n",
        "      elif s==\"relu\":\n",
        "         gx.append(self.relu)\n",
        "         d_gx.append(self.d_relu)\n",
        "      else:\n",
        "        print(\"Invalid Acivation function\")\n",
        "        return None\n",
        "    return gx,d_gx\n",
        "\n",
        "  def gradient_descent(self):\n",
        "    for iter in range(self.epochs):\n",
        "      ## Forward Pass\n",
        "      self.forward_prop(self.X)\n",
        "\n",
        "      ##compute cost\n",
        "      self.cost.append(self.compute_cost())\n",
        "\n",
        "      ## Back Propagation\n",
        "      self.back_prop()\n",
        "\n",
        "      ## update Parameters\n",
        "      self.update_param()\n",
        "\n",
        "\n",
        "  def forward_prop(self,X):\n",
        "    '''\n",
        "    It takes an input unlike any other fn as it will be used in predict fn\n",
        "    '''\n",
        "    w,b = self.w,self.b\n",
        "    g = self.g\n",
        "    Z = self.Z\n",
        "    A = self.A\n",
        "      #forward pass\n",
        "    for layer in range(self.L):\n",
        "      if layer == 0:\n",
        "        Z[layer] = w[layer] @ X + b[layer]\n",
        "        A[layer] = g[layer](Z[layer])\n",
        "      else:\n",
        "        Z[layer] = w[layer] @ A[layer-1] + b[layer]\n",
        "        A[layer] = g[layer](Z[layer])\n",
        "\n",
        "    return A,Z\n",
        "\n",
        "  def back_prop(self):\n",
        "    L=self.L\n",
        "    #################################\n",
        "    dA_L = - (np.divide(self.y, self.A[L-1]) - np.divide(1 - self.y, 1 - self.A[L-1]))  # derivative of last Lth layer activation function w.r.t to Loss\n",
        "    self.dA[L-1] = dA_L  #store this derivative in dA list\n",
        "    for layer in range(L-1,-1,-1):\n",
        "      self.dz[layer] = self.dA[layer] * self.d_g[layer](self.Z[layer])\n",
        "      # if (layer==0): #for 0th layer X will be the input\n",
        "      #   dw[layer] = (1/X.shape[1])*(dz[layer] @ X.T)\n",
        "      # else: #for any layer except 0th A[l-1] will be the input\n",
        "      #   dw[layer] = (1/X.shape[1])*(dz[layer] @ A[layer-1].T)\n",
        "\n",
        "      # db[layer] = (1/X.shape[1])*np.sum(dz[layer],axis = 1, keepdims = True)\n",
        "      if (layer != 0):\n",
        "        self.dA[layer-1]  = self.w[layer].T @ self.dz[layer] # for 0th layer no need to calculate as there is no l-1 behind the first layer\n",
        "\n",
        "    self.dX[0] = self.w[0].T @ self.dz[0]\n",
        "\n",
        "  def update_param(self):\n",
        "    alpha= self.lr\n",
        "    self.X = self.X - alpha*self.dX[0]\n",
        "\n",
        "  def compute_cost(self):\n",
        "    y=self.y\n",
        "    X=self.X\n",
        "    A=self.A\n",
        "    L=self.L\n",
        "    loss = -(y*np.log10(A[L-1]) + (1-y)*np.log10(1-A[L-1]))  #loss.shape = (1,100)\n",
        "\n",
        "    return loss\n",
        "\n",
        "  def predict(self,X):\n",
        "    self.forward_prop(X)\n",
        "    predictions = (self.A[-1] > 0.5)\n",
        "    return predictions\n",
        "\n",
        "  def sigmoid(self,z):\n",
        "    return 1/(1+np.exp(-z))\n",
        "\n",
        "  def d_sigmoid(self,z):\n",
        "    a = self.sigmoid(z)\n",
        "    return a*(1-a)\n",
        "\n",
        "  def tanh(self,z):\n",
        "    return np.tanh(z)\n",
        "\n",
        "  def d_tanh(self,z):\n",
        "    a = self.tanh(z)\n",
        "    return 1.0 - (a**2)\n",
        "\n",
        "  def relu(self,z):\n",
        "    return np.maximum(1e-10,z)\n",
        "\n",
        "  def d_relu(self,z):\n",
        "    return np.where(z > 0, 1, 1e-10)\n",
        "\n",
        "\n"
      ],
      "metadata": {
        "id": "CFYXIe0Bh3FC"
      },
      "execution_count": null,
      "outputs": []
    },
    {
      "cell_type": "code",
      "source": [
        "w = [parameters[\"W1\"], parameters[\"W2\"]]\n",
        "b = [parameters[\"b1\"], parameters[\"b2\"]]\n",
        "param = [w,b]\n",
        "\n",
        "gen = NeuralNetwork([7,1],0.075,[\"relu\", \"sigmoid\"],20000,param,12288,1)"
      ],
      "metadata": {
        "id": "cg2zosfH96LL"
      },
      "execution_count": null,
      "outputs": []
    },
    {
      "cell_type": "code",
      "source": [
        "gen.cost[-1]"
      ],
      "metadata": {
        "colab": {
          "base_uri": "https://localhost:8080/"
        },
        "id": "qF1p_3qQEZtL",
        "outputId": "343220c9-aac4-4db3-cb49-4a615d0eb2b4"
      },
      "execution_count": null,
      "outputs": [
        {
          "output_type": "execute_result",
          "data": {
            "text/plain": [
              "array([[0.0004914]])"
            ]
          },
          "metadata": {},
          "execution_count": 61
        }
      ]
    },
    {
      "cell_type": "code",
      "source": [
        "gen.X*255"
      ],
      "metadata": {
        "colab": {
          "base_uri": "https://localhost:8080/"
        },
        "id": "AIByZ8Vo4JoD",
        "outputId": "6c446c2f-fae3-429a-9f70-46cce8cfc552"
      },
      "execution_count": null,
      "outputs": [
        {
          "output_type": "execute_result",
          "data": {
            "text/plain": [
              "array([[127.53857858],\n",
              "       [ 89.94760447],\n",
              "       [511.21246274],\n",
              "       ...,\n",
              "       [ 22.28115166],\n",
              "       [ 95.43370401],\n",
              "       [-88.16620289]])"
            ]
          },
          "metadata": {},
          "execution_count": 63
        }
      ]
    },
    {
      "cell_type": "code",
      "source": [
        "\n",
        "X_gen = (gen.X).reshape((1, 64, 64, 3))\n",
        "X_gen\n"
      ],
      "metadata": {
        "id": "NfBrIPU9CCX1",
        "colab": {
          "base_uri": "https://localhost:8080/"
        },
        "outputId": "5ab443f9-bc35-45fb-a0dc-1b3a4705df01"
      },
      "execution_count": null,
      "outputs": [
        {
          "output_type": "execute_result",
          "data": {
            "text/plain": [
              "array([[[[ 0.50015129,  0.3527357 ,  2.00475476],\n",
              "         [ 0.17757029, -0.11875457,  1.12820529],\n",
              "         [ 1.63225783, -0.01994579,  0.6836143 ],\n",
              "         ...,\n",
              "         [ 1.00037872,  0.37570272, -0.33660171],\n",
              "         [-0.63423181,  0.00923216,  0.82927683],\n",
              "         [ 0.32631526,  0.13360124, -0.20449666]],\n",
              "\n",
              "        [[-0.10449403,  0.65677311, -0.7916245 ],\n",
              "         [ 0.50412204, -1.18540861,  0.18312348],\n",
              "         [ 1.82449792, -0.7333378 ,  0.47591478],\n",
              "         ...,\n",
              "         [ 0.34237038, -0.2212833 ,  0.26759776],\n",
              "         [-0.63219552, -2.22701784,  1.52338972],\n",
              "         [ 2.03535685,  1.56381849, -0.63814722]],\n",
              "\n",
              "        [[ 0.28015239, -1.32667622,  0.07678455],\n",
              "         [-0.38767998,  0.97532041, -0.31892432],\n",
              "         [ 1.39066502,  0.1841311 ,  1.59273614],\n",
              "         ...,\n",
              "         [ 0.05681125,  0.83839618, -2.2633531 ],\n",
              "         [-0.48124122, -0.43351392, -1.27323995],\n",
              "         [ 0.04506012,  0.36804567,  0.36394816]],\n",
              "\n",
              "        ...,\n",
              "\n",
              "        [[-0.63148021, -0.93966442,  0.64943936],\n",
              "         [ 2.52549603, -0.82679651, -0.72068391],\n",
              "         [-1.39703982, -0.89263507,  0.11816964],\n",
              "         ...,\n",
              "         [ 1.53977488,  1.10049648, -0.12778634],\n",
              "         [ 0.81643694, -0.93120484,  0.56588817],\n",
              "         [-0.48499017, -0.44779027,  0.68756059]],\n",
              "\n",
              "        [[-1.14001276,  0.65250068,  0.28505353],\n",
              "         [ 0.06460267, -1.17593636, -1.46250846],\n",
              "         [-0.1419339 , -0.29302715, -0.67082392],\n",
              "         ...,\n",
              "         [ 0.16457093, -1.56569389, -1.2441352 ],\n",
              "         [-0.56690234,  0.94921385, -1.11353834],\n",
              "         [-0.01575018,  1.20482265,  0.47631634]],\n",
              "\n",
              "        [[ 1.33630373,  1.14231067, -0.44990529],\n",
              "         [ 1.21239053,  0.45106377,  0.10743219],\n",
              "         [-0.93434713, -0.25696539, -2.13339327],\n",
              "         ...,\n",
              "         [-0.33212899, -1.83929074,  0.24672677],\n",
              "         [-0.11291033,  0.66805996, -0.81478125],\n",
              "         [ 0.08737707,  0.37424982, -0.34574982]]]])"
            ]
          },
          "metadata": {},
          "execution_count": 85
        }
      ]
    },
    {
      "cell_type": "code",
      "source": [
        "# Example of a picture\n",
        "plt.imshow(X_gen[0])\n"
      ],
      "metadata": {
        "colab": {
          "base_uri": "https://localhost:8080/",
          "height": 426
        },
        "id": "cA1cPAKKDW1u",
        "outputId": "5227918c-0ad0-4b41-b64b-9959554e62c2"
      },
      "execution_count": null,
      "outputs": [
        {
          "output_type": "stream",
          "name": "stderr",
          "text": [
            "WARNING:matplotlib.image:Clipping input data to the valid range for imshow with RGB data ([0..1] for floats or [0..255] for integers).\n"
          ]
        },
        {
          "output_type": "execute_result",
          "data": {
            "text/plain": [
              "<matplotlib.image.AxesImage at 0x7f936c310b50>"
            ]
          },
          "metadata": {},
          "execution_count": 84
        },
        {
          "output_type": "display_data",
          "data": {
            "text/plain": [
              "<Figure size 500x400 with 1 Axes>"
            ],
            "image/png": "[encoded data removed]"
          },
          "metadata": {}
        }
      ]
    },
    {
      "cell_type": "code",
      "source": [
        "sample = train_x_orig[0]\n",
        "sample.shape"
      ],
      "metadata": {
        "colab": {
          "base_uri": "https://localhost:8080/"
        },
        "id": "hkbzgy29-TRp",
        "outputId": "ba43d036-ee68-4dfb-b7e9-45d9acb09239"
      },
      "execution_count": null,
      "outputs": [
        {
          "output_type": "execute_result",
          "data": {
            "text/plain": [
              "(64, 64, 3)"
            ]
          },
          "metadata": {},
          "execution_count": 73
        }
      ]
    },
    {
      "cell_type": "code",
      "source": [],
      "metadata": {
        "id": "kucgl2ACD1w2"
      },
      "execution_count": null,
      "outputs": []
    }
  ]
}